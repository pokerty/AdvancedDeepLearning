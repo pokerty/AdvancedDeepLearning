{
 "cells": [
  {
   "cell_type": "code",
   "execution_count": 2,
   "metadata": {},
   "outputs": [],
   "source": [
    "import matplotlib.pyplot as plt\n",
    "import datetime\n",
    "import torch\n",
    "import torch.nn as nn\n",
    "import torch.nn.functional as F\n",
    "import copy\n",
    "import torchvision\n",
    "import torchvision.transforms as transforms\n",
    "import numpy as np\n",
    "import torchvision.models as models\n",
    "\n",
    "from torch.utils.tensorboard import SummaryWriter\n",
    "writer = SummaryWriter()"
   ]
  },
  {
   "cell_type": "code",
   "execution_count": 3,
   "metadata": {},
   "outputs": [],
   "source": [
    "class Net(nn.Module):\n",
    "        def __init__(self):\n",
    "                super(Net, self).__init__()\n",
    "                self.conv1 = nn.Conv2d(1, 32, kernel_size=5)\n",
    "                self.conv2 = nn.Conv2d(32, 32, kernel_size=5)\n",
    "                self.conv3 = nn.Conv2d(32,64, kernel_size=5)\n",
    "                self.fc1 = nn.Linear(3*3*64, 256)\n",
    "                self.fc2 = nn.Linear(256, 10)\n",
    "                \n",
    "        def forward(self, x):\n",
    "                x = F.relu(self.conv1(x))\n",
    "                x = F.relu(F.max_pool2d(self.conv2(x), 2))\n",
    "                x = F.dropout(x, p=0.5, training=self.training)\n",
    "                x = F.relu(F.max_pool2d(self.conv3(x),2))\n",
    "                x = F.dropout(x, p=0.5, training=self.training)\n",
    "                x = x.view(-1,3*3*64 )\n",
    "                x = F.relu(self.fc1(x))\n",
    "                x = F.dropout(x, training=self.training)\n",
    "                x = self.fc2(x)\n",
    "                return F.log_softmax(x, dim=1)\n",
    "\n",
    "model = Net()"
   ]
  },
  {
   "cell_type": "code",
   "execution_count": 4,
   "metadata": {},
   "outputs": [],
   "source": [
    "def train_model(model, criterion, optimizer, train_loader, val_loader, num_epochs):\n",
    "\n",
    "    train_losses = []\n",
    "    valid_losses = []\n",
    "    best_model_loss = 5\n",
    "    \n",
    "    for epoch in range(num_epochs):\n",
    "\n",
    "        # Training\n",
    "        for i, (data, labels) in enumerate(train_loader):\n",
    "      \n",
    "            prediction = model.forward(data)\n",
    "\n",
    "            train_loss = criterion(prediction, labels)\n",
    "\n",
    "            train_loss.backward()\n",
    "\n",
    "            optimizer.step()\n",
    "\n",
    "            optimizer.zero_grad()\n",
    "        print(f'\\rEpoch {epoch+1}, batch {i+1}/{len(train_loader)} - Loss: {train_loss}')\n",
    "\n",
    "        train_losses.append(train_loss)\n",
    "        writer.add_scalar(\"Loss/train ADAM\", train_loss, epoch)\n",
    "\n",
    "        # Validation\n",
    "        for batch_nr, (data, labels) in enumerate(val_loader):\n",
    "            prediction = model.forward(data)\n",
    "            loss_val = criterion(prediction, labels)\n",
    "            valid_losses.append(loss_val)\n",
    "        print(f\"loss validation: {loss_val}\")\n",
    "        #print(f\"loss validation: {loss_val}\",\"\\n\")\n",
    "\n",
    "        if valid_losses[-1] < best_model_loss:\n",
    "            print(f\"\\t > Found a better model, {best_model_loss} -> {valid_losses[-1]}\")\n",
    "            best_model = copy.deepcopy(model)\n",
    "            best_model_loss = valid_losses[-1]\n",
    "\n",
    "        writer.add_scalar(\"Loss/validation ADAM\", loss_val, epoch)\n",
    "\n",
    "    print(f\"\\nBest model loss: {best_model_loss}\")\n",
    "    return best_model, train_losses, valid_losses"
   ]
  },
  {
   "cell_type": "code",
   "execution_count": 5,
   "metadata": {},
   "outputs": [],
   "source": [
    "def get_accuracy(network, loader):\n",
    "    \n",
    "    with torch.no_grad():\n",
    "        correct = 0\n",
    "        total = 0\n",
    "        y_pred = []\n",
    "        y_true = []\n",
    "\n",
    "        for x, (data, labels) in enumerate(loader):\n",
    "\n",
    "            prediction = network.forward(data)\n",
    "\n",
    "            for i in range(len(data)):\n",
    "\n",
    "                y_true.append(labels[i].item())\n",
    "                y_pred.append(torch.argmax(prediction[i]).item())\n",
    "                if y_true[i] == y_pred[i]:\n",
    "                    correct += 1        \n",
    "    \n",
    "            total += float(len(data))\n",
    "    \n",
    "        score = correct/total\n",
    "\n",
    "        accuracy = score\n",
    "\n",
    "        return accuracy"
   ]
  },
  {
   "cell_type": "code",
   "execution_count": 6,
   "metadata": {},
   "outputs": [
    {
     "name": "stdout",
     "output_type": "stream",
     "text": [
      "Epoch 1, batch 50/50 - Loss: 2.022226095199585\n",
      "loss validation: 1.985370397567749\n",
      "\t > Found a better model, 5 -> 1.985370397567749\n",
      "Epoch 2, batch 50/50 - Loss: 0.9370052814483643\n",
      "loss validation: 0.9804132580757141\n",
      "\t > Found a better model, 1.985370397567749 -> 0.9804132580757141\n",
      "Epoch 3, batch 50/50 - Loss: 0.6620936989784241\n",
      "loss validation: 0.6375173926353455\n",
      "\t > Found a better model, 0.9804132580757141 -> 0.6375173926353455\n",
      "Epoch 4, batch 50/50 - Loss: 0.5638431906700134\n",
      "loss validation: 0.49907007813453674\n",
      "\t > Found a better model, 0.6375173926353455 -> 0.49907007813453674\n",
      "\n",
      "Best model loss: 0.49907007813453674\n",
      "Model Accuracy (MNIST): 83.6%\n"
     ]
    }
   ],
   "source": [
    "LEARNING_RATE = 0.0001\n",
    "EPOCHS = 4\n",
    "BATCH_SIZE = 1000\n",
    "\n",
    "transform = transforms.Compose([transforms.ToTensor()])\n",
    "\n",
    "trainset = torchvision.datasets.MNIST(root='./data', train=True,download=True, transform=transform)\n",
    "testset = torchvision.datasets.MNIST(root='./data', train=False,download=True, transform=transform)\n",
    "\n",
    "validset, trainset = torch.utils.data.random_split(trainset, [10000, 50000])\n",
    "\n",
    "trainloader = torch.utils.data.DataLoader(trainset, batch_size=BATCH_SIZE,shuffle=True)\n",
    "validloader = torch.utils.data.DataLoader(validset, batch_size=BATCH_SIZE,shuffle=True)\n",
    "testloader = torch.utils.data.DataLoader(testset, batch_size=BATCH_SIZE,shuffle=False)\n",
    "\n",
    "# Define loss function and optimizer\n",
    "criterion = nn.CrossEntropyLoss()\n",
    "optimizer = torch.optim.Adam(model.parameters(), lr = LEARNING_RATE)\n",
    "\n",
    "# Train the model\n",
    "trained_model, train_loss, valid_loss = train_model(model, criterion, optimizer, trainloader, validloader, EPOCHS)\n",
    "\n",
    "# Test the model\n",
    "test_acc = get_accuracy(trained_model, testloader)\n",
    "print(f\"Model Accuracy (MNIST): {test_acc*100}%\")\n",
    "writer.flush()"
   ]
  },
  {
   "attachments": {},
   "cell_type": "markdown",
   "metadata": {},
   "source": [
    "**SVHN**"
   ]
  },
  {
   "cell_type": "code",
   "execution_count": 7,
   "metadata": {},
   "outputs": [
    {
     "name": "stdout",
     "output_type": "stream",
     "text": [
      "Using downloaded and verified file: ./data\\train_32x32.mat\n",
      "Model Accuracy (SVHN): 13.3%\n"
     ]
    }
   ],
   "source": [
    "transform = transforms.Compose([transforms.ToTensor(),transforms.Normalize(mean=[0.485, 0.456, 0.406], std=[0.229, 0.224, 0.225]),transforms.Grayscale(num_output_channels=1),transforms.Resize(28)])\n",
    "\n",
    "dataset = torchvision.datasets.SVHN(root='./data',download=True,transform=transform)\n",
    "\n",
    "testset, validset, trainset = torch.utils.data.random_split(dataset, [10000,12000,51257])\n",
    "\n",
    "trainloader_svhn = torch.utils.data.DataLoader(trainset, batch_size=BATCH_SIZE,shuffle=True)\n",
    "validloader_svhn = torch.utils.data.DataLoader(validset, batch_size=BATCH_SIZE,shuffle=True)\n",
    "testloader_svhn = torch.utils.data.DataLoader(testset, batch_size=BATCH_SIZE,shuffle=False)\n",
    "\n",
    "# Test the model\n",
    "test_acc = get_accuracy(trained_model, testloader_svhn)\n",
    "print(f\"Model Accuracy (SVHN): {test_acc*100}%\")\n",
    "writer.flush()"
   ]
  },
  {
   "attachments": {},
   "cell_type": "markdown",
   "metadata": {},
   "source": [
    "**Transfer Learning**"
   ]
  },
  {
   "cell_type": "code",
   "execution_count": 8,
   "metadata": {},
   "outputs": [
    {
     "name": "stdout",
     "output_type": "stream",
     "text": [
      "Epoch 1, batch 52/52 - Loss: 4.225551128387451\n",
      "loss validation: 4.543282508850098\n",
      "\t > Found a better model, 5 -> 4.543282508850098\n",
      "Epoch 2, batch 52/52 - Loss: 3.7912509441375732\n",
      "loss validation: 4.601983547210693\n",
      "Epoch 3, batch 52/52 - Loss: 4.6349382400512695\n",
      "loss validation: 4.298398494720459\n",
      "\t > Found a better model, 4.543282508850098 -> 4.298398494720459\n",
      "Epoch 4, batch 52/52 - Loss: 4.117882251739502\n",
      "loss validation: 4.166539192199707\n",
      "\t > Found a better model, 4.298398494720459 -> 4.166539192199707\n",
      "Epoch 5, batch 52/52 - Loss: 4.53678035736084\n",
      "loss validation: 4.564538955688477\n",
      "\n",
      "Best model loss: 4.166539192199707\n",
      "Model Accuracy (Transfer Leraning): 14.7%\n"
     ]
    }
   ],
   "source": [
    "model_finetune = trained_model\n",
    "\n",
    "\n",
    "LEARNING_RATE = 0.01\n",
    "EPOCHS = 5\n",
    "BATCH_SIZE = 1000\n",
    "\n",
    "# Define our loss function and optimizer\n",
    "criterion = nn.CrossEntropyLoss()\n",
    "optimizer = torch.optim.SGD(model.parameters(), lr = LEARNING_RATE)\n",
    "\n",
    "# Train the model\n",
    "trained_model_finetuned, train_loss, valid_loss = train_model(model_finetune, criterion, optimizer, trainloader_svhn, validloader_svhn, EPOCHS)\n",
    "\n",
    "# Test the model\n",
    "test_acc = get_accuracy(trained_model_finetuned, testloader_svhn)\n",
    "print(f\"Model Accuracy (Transfer Leraning): {test_acc*100}%\")\n",
    "writer.flush()"
   ]
  },
  {
   "cell_type": "code",
   "execution_count": null,
   "metadata": {},
   "outputs": [],
   "source": []
  }
 ],
 "metadata": {
  "kernelspec": {
   "display_name": "nnlm",
   "language": "python",
   "name": "python3"
  },
  "language_info": {
   "codemirror_mode": {
    "name": "ipython",
    "version": 3
   },
   "file_extension": ".py",
   "mimetype": "text/x-python",
   "name": "python",
   "nbconvert_exporter": "python",
   "pygments_lexer": "ipython3",
   "version": "3.9.16"
  },
  "orig_nbformat": 4
 },
 "nbformat": 4,
 "nbformat_minor": 2
}
